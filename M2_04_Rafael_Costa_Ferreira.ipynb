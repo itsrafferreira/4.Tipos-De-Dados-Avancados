{
 "cells": [
  {
   "cell_type": "markdown",
   "metadata": {},
   "source": [
    "# Exercícios Módulo 2. Tipos avançados\n",
    "\n",
    "Considerações a ter em conta:\n",
    "\n",
    "* Guardar este documento com o seguinte formato para entrega: __M2_03_nome_apelido1_apelido2__ \n",
    "* Fazer os exercícios com as ferramentas vistas nas sessões. Ainda não chegámos às condicionais nem ciclos \n",
    "* Comentar o código\n",
    "* Utilizar nomes de variáveis apropriados, se vai guardar uma nota, chamar a essa variável nota, não n ou x"
   ]
  },
  {
   "cell_type": "markdown",
   "metadata": {},
   "source": [
    "## Exercícios de tipos avançados"
   ]
  },
  {
   "cell_type": "markdown",
   "metadata": {},
   "source": [
    "**1) Trabalhar com listas e tuplas**\n",
    "\n",
    "* Criar uma lista e uma tupla que contenha strings (pelo menos 3 elementos). Será de temática livre, sobre o que quiser: veículos, comida, música, etc.\n",
    "* Imprimir a lista e a tupla.\n",
    "* Imprimir o 2.º elemento da lista e o penúltimo da tupla.\n",
    "* Modificar (se puder) algum elemento da lista e da tupla. E imprimir o resultado novamente.\n",
    "* Mostrar o tamanho da lista e da tupla.\n",
    "* Procurar um elemento dentro da lista e da tupla. Mostrar se nos devolve True ou False.\n",
    "* Adicionar (se puder) algum elemento à lista e à tupla. Mostrar a lista e a tupla novamente para verificar se a ação foi realizada corretamente.\n",
    "* Apagar ou eliminar (se puder) o conteúdo da lista e da tupla. Imprimir a lista e a tupla novamente para verificar se a ação foi realizada corretamente.\n"
   ]
  },
  {
   "cell_type": "code",
   "execution_count": 1,
   "metadata": {},
   "outputs": [],
   "source": [
    "# Criação da lista e tupla\n",
    "minha_lista = [\"ovni\", \"sushi\", \"natureza\"]\n",
    "minha_tupla = (\"skate\", \"massa\", \"rock\")\n",
    "\n",
    "# Imprimir lista e tupla\n",
    "print(\"Lista:\", minha_lista)\n",
    "print(\"Tupla:\", minha_tupla)\n",
    "\n",
    "# Imprimir elementos específicos\n",
    "print(\"2º elemento da lista:\", minha_lista[1])\n",
    "print(\"Penúltimo elemento da tupla:\", minha_tupla[-2])\n",
    "\n",
    "# Modificar elementos\n",
    "minha_lista[0] = \"moto\"\n",
    "# Tuplas são imutáveis, então não se modificar elementos.\n",
    "\n",
    "# Mostar tamanho da lista e tupla\n",
    "print(\"Tamanho da lista:\", len(minha_lista))\n",
    "print(\"Tamanho da tupla:\", len(minha_tupla))\n",
    "\n",
    "# Pesquisar elementos\n",
    "elemento_pesquisado_lista = \"sushi\"\n",
    "elemento_pesquisado_tupla = \"mar\"\n",
    "print(\"Elemento encontrado na lista:\", elemento_pesquisado_lista in minha_lista)\n",
    "print(\"Elemento encontrado na tupla:\", elemento_pesquisado_tupla in minha_tupla)\n",
    "\n",
    "# Adicionar elementos\n",
    "minha_lista.append(\"pão\")\n",
    "minha_tupla = minha_tupla + (\"piano\",)\n",
    "\n",
    "# Mostrar lista e tupla após adição\n",
    "print(\"Lista após adição:\", minha_lista)\n",
    "print(\"Tupla após adição:\", minha_tupla)\n",
    "\n",
    "# Apagar/ eliminar conteúdo\n",
    "minha_lista.clear()\n",
    "minha_tupla = ()  # Criar uma nova tupla vazia\n",
    "\n",
    "# Mostrar lista e tupla após apagar\n",
    "print(\"Lista após apagar:\", minha_lista)\n",
    "print(\"Tupla após apagar:\", minha_tupla)"
   ]
  },
  {
   "cell_type": "markdown",
   "metadata": {},
   "source": [
    "**2) Trabalhar com sets e dicionários**\n",
    "\n",
    "* Criar um set e um dicionário que contenham strings (pelo menos 3 elementos no caso do set e 3 conjuntos de chave: valor no caso do dicionário). Temática livre, sobre o que quiser, veículos, comida, música, etc.\n",
    "* Mostrar o set e o dicionário\n",
    "* Mostrar (se puder) o 2º elemento do set e o valor da primeira chave-valor do dicionário \n",
    "* Modificar (se puder) algum elemento do set ou do dicionário. E mostrar o resultado \n",
    "* Mostrar o tamanho do set e do dicionário\n",
    "* Fazer uma pesquisa de um elemento dentro do set e dentro do dicionário. Imprimir o resultado (True ou False).\n",
    "* Adicionar (se puder) algum elemento ao set e alguma chave-valor ao dicionário. Imprimir novamente o set e o dicionário para verificar se a acção foi realizada corretamente.\n",
    "* Apagar ou eliminar (se puder) o conteúdo do set e do dicionário. Imprimir de novo o set e o dicionário para verificar se a acção foi realizada corretamente."
   ]
  },
  {
   "cell_type": "code",
   "execution_count": 2,
   "metadata": {},
   "outputs": [],
   "source": [
    "# Criar um set relacionado a comida\n",
    "comidas_set = {\"pão\", \"massa\", \"sushi\"}\n",
    "\n",
    "# Criar um dicionário com 3 conjuntos chave-valor relacionados a bebida\n",
    "bebidas_dict = {\"agua\": \"natural\", \"refrigerante\": \"sem gás\", \"sumo\": \"laranja\"}\n",
    "\n",
    "# Mostrar o set e o dicionário\n",
    "print(\"Set de comidas:\", comidas_set)\n",
    "print(\"Dicionário de bebidas:\", bebidas_dict)\n",
    "\n",
    "# Mostrar o 2º elemento do set e o valor da primeira chave-valor do dicionário\n",
    "segundo_elemento_set = list(comidas_set)[1]\n",
    "primeiro_valor_dict = bebidas_dict[\"agua\"]\n",
    "print(\"Segundo elemento do set:\", segundo_elemento_set)\n",
    "print(\"Valor da primeira chave-valor do dicionário:\", primeiro_valor_dict)\n",
    "\n",
    "# Modificar um elemento do set e do dicionário\n",
    "comidas_set.remove(\"pão\")\n",
    "bebidas_dict[\"agua\"] = \"com gás\"\n",
    "\n",
    "# Mostrar o resultado após as modificações\n",
    "print(\"Set de comidas após modificação:\", comidas_set)\n",
    "print(\"Dicionário de bebidas após modificação:\", bebidas_dict)\n",
    "\n",
    "# Mostrar o tamanho do set e do dicionário\n",
    "tamanho_set = len(comidas_set)\n",
    "tamanho_dict = len(bebidas_dict)\n",
    "print(\"Tamanho do set de comidas:\", tamanho_set)\n",
    "print(\"Tamanho do dicionário de bebidas:\", tamanho_dict)\n",
    "\n",
    "# Fazer uma pesquisa de um elemento no set e no dicionário\n",
    "pesquisa_set = \"sushi\" in comidas_set\n",
    "pesquisa_dict = \"café\" in bebidas_dict\n",
    "print(\"Pesquisa no set de comidas:\", pesquisa_set)\n",
    "print(\"Pesquisa no dicionário de bebidas:\", pesquisa_dict)\n",
    "\n",
    "# Adicionar um elemento ao set e uma chave-valor ao dicionário\n",
    "comidas_set.add(\"macarrão\")\n",
    "bebidas_dict[\"café\"] = \"quente\"\n",
    "\n",
    "# Imprimir novamente o set e o dicionário para verificar as adições\n",
    "print(\"Set de comidas após adição:\", comidas_set)\n",
    "print(\"Dicionário de bebidas após adição:\", bebidas_dict)\n",
    "\n",
    "# Apagar o conteúdo do set e do dicionário\n",
    "comidas_set.clear()\n",
    "bebidas_dict.clear()\n",
    "\n",
    "# Imprimir de novo o set e o dicionário para verificar a ação\n",
    "print(\"Set de comidas após limpeza:\", comidas_set)\n",
    "print(\"Dicionário de bebidas após limpeza:\", bebidas_dict)"
   ]
  },
  {
   "cell_type": "markdown",
   "metadata": {},
   "source": [
    "**3) Fazer um programa que peça ao utilizador 3 números que possam int ou float (não é  necessário fazer ciclos , pode repetir o código).\n",
    "Estes números devem ser  adicionados a uma  lista. Quando se finalizar a introdução dos dados, realizar a soma dos elementos da lista e atribuir a uma variavel com nome \"somatório\" . \n",
    "No final, imprimir o resultado.\n",
    "”**\n",
    "\n",
    "*Ajuda: existe uma função chamada sum(lista) Experimente-a!*"
   ]
  },
  {
   "cell_type": "code",
   "execution_count": 3,
   "metadata": {},
   "outputs": [],
   "source": [
    "# Começar a lista\n",
    "numeros = []\n",
    "\n",
    "# Entrada de números na lista\n",
    "for _ in range(3):\n",
    "    numero = input(\"Digite um número (inteiro ou decimal): \")\n",
    "    numeros.append(float(numero))  # Convertemos para float para permitir números inteiros ou decimais.\n",
    "\n",
    "# Cálculo do somatório\n",
    "somatorio = sum(numeros)\n",
    "\n",
    "# Imprimir o resultado\n",
    "print(\"Somatório dos números:\", somatorio)"
   ]
  },
  {
   "cell_type": "markdown",
   "metadata": {},
   "source": [
    "**4) Continuar o exercício anterior; calcular a média aritmética dos elementos da lista e imprimir o resultado.**\n",
    "\n",
    "*Neste caso sabemos que o número de elementos que o utilizador introduziu é 3, mas o objetivo será deixar o programa abstrato,e portanto, não fazer referência ao número 3; deve calcular o numeros de elementos da lista*"
   ]
  },
  {
   "cell_type": "code",
   "execution_count": 4,
   "metadata": {},
   "outputs": [],
   "source": [
    "# Começar a lista\n",
    "numeros = []\n",
    "\n",
    "# Entrada de números na lista\n",
    "n = int(input(\"Quantos números você deseja inserir? \"))\n",
    "for _ in range(n):\n",
    "    numero = input(\"Digite um número (inteiro ou decimal): \")\n",
    "    numeros.append(float(numero))  # Convertemos para float para permitir números inteiros ou decimais.\n",
    "\n",
    "# Cálculo da média\n",
    "soma = sum(numeros)\n",
    "media = soma / len(numeros)\n",
    "\n",
    "# Imprimir o resultado\n",
    "print(\"Média dos números:\", media)"
   ]
  },
  {
   "cell_type": "markdown",
   "metadata": {},
   "source": [
    "**5) Dada a seguinte matriz (lista com quatro listas como elementos), o objectivo é que em cada sublista, o quarto elemento seja sempre o resultado da soma dos três primeiros elementos. Construa um pequeno programa que realize este cálculo.**\n",
    "\n",
    "Pista: modificar as somas erradas utilizando o slicing\n",
    "\n",
    "\n",
    "* Não vale colocar diretamente os valores (nem os índices nem a soma): \n",
    "* matriz[1][3] = 6\n",
    "* matriz[3][3] = 12\n",
    "* Há que pesquisar uma forma automatizada de aceder e modificar esses valores"
   ]
  },
  {
   "cell_type": "code",
   "execution_count": 5,
   "metadata": {},
   "outputs": [],
   "source": [
    "matriz = [ \n",
    "    [1, 1, 1, 3],\n",
    "    [2, 2, 2, 7],\n",
    "    [3, 3, 3, 9],\n",
    "    [4, 4, 4, 13]\n",
    "]\n",
    "\n",
    "# O quarto elemento de cada sublista fica em 0 antes de ser calculado\n",
    "\n",
    "matriz = [\n",
    "    [1, 1, 1, 0],  \n",
    "    [2, 2, 2, 0],\n",
    "    [3, 3, 3, 0],\n",
    "    [4, 4, 4, 0]\n",
    "]\n",
    "\n",
    "# Percorra a matriz\n",
    "for sublist in matriz:\n",
    "    soma = sum(sublist[:3])  # Calcular a soma dos três primeiros elementos\n",
    "    sublist[3] = soma  # Atribuir a soma ao quarto elemento\n",
    "\n",
    "# Imprimir a matriz \n",
    "for sublist in matriz:\n",
    "    print(sublist)"
   ]
  },
  {
   "cell_type": "markdown",
   "metadata": {},
   "source": [
    "**6) Supor que obtém uma string invertida. Esta string contém o nome e a nota de um aluno. Formate este string para obter o seguinte output:**\n",
    "\n",
    "* ***Nome Apelido*** teve um(a) ***Nota*** de nota\n",
    "\n",
    "*Pista: Para inverter uma string usando a técnica de slicing pode-se utilizar um terceiro índice -1: cadeia[::-1]*"
   ]
  },
  {
   "cell_type": "code",
   "execution_count": 1,
   "metadata": {},
   "outputs": [],
   "source": [
    "# String invertida \n",
    "string_invertida = \" atona ed 02 ed sieR oflodA\"\n",
    "\n",
    "# Reverter a string para obter a ordem correta\n",
    "string_corrigida = string_invertida[::-1]\n",
    "\n",
    "# Dividir a string em nome e nota\n",
    "partes = string_corrigida.split()\n",
    "\n",
    "# Formatar a saída\n",
    "saida = f\"{partes[0]} {partes[1]} teve uma Nota de {partes[3]}\"\n",
    "\n",
    "# Imprimir o resultado\n",
    "print(saida)"
   ]
  },
  {
   "cell_type": "markdown",
   "metadata": {},
   "source": [
    "**7) Fazer um programa que cumpra as seguintes instruções:**\n",
    "\n",
    "* Criar um conjunto chamado utilizadores com os utilizadores Marta, David, Elvira, Juan e Marcos \n",
    "* Criar um conjunto chamado administradores com os administradores Juan e Marta.\n",
    "* Apagar o administrador Juan do conjunto de administradores.\n",
    "* Adicionar Marcos como um novo administrador, mas não o apagar do conjunto de utilizadores.\n",
    "* Imprimir todos os utilizadores por ecrã de forma dinâmica (loop); indicar também se os utilizadores são administradores (ou não).\n",
    "\n",
    "Notas: os conjuntos podem ser percorridos dinâmicamente, utilizando o ciclo **for** de forma similar a uma lista. Também contam com um método chamado **.discard (elemento)** que serve para apagar um elemento.\n",
    "* "
   ]
  },
  {
   "cell_type": "code",
   "execution_count": 7,
   "metadata": {},
   "outputs": [],
   "source": [
    "# Criar um conjunto de utilizadores\n",
    "utilizadores = {\"Marta\", \"David\", \"Elvira\", \"Juan\", \"Marcos\"}\n",
    "\n",
    "# Criar um conjunto de administradores\n",
    "administradores = {\"Juan\", \"Marta\"}\n",
    "\n",
    "# Apagar Juan do conjunto de administradores\n",
    "administradores.discard(\"Juan\")\n",
    "\n",
    "# Adicionar Marcos como um novo administrador, sem apagar do conjunto de utilizadores\n",
    "administradores.add(\"Marcos\")\n",
    "\n",
    "# Imprimir os utilizadores e indicar se são administradores\n",
    "for utilizador in utilizadores:\n",
    "    if utilizador in administradores:\n",
    "        print(f\"{utilizador} é um administrador\")\n",
    "    else:\n",
    "        print(f\"{utilizador} não é um administrador\")"
   ]
  },
  {
   "cell_type": "markdown",
   "metadata": {},
   "source": [
    "**8) Existe um videojogo na qual os atributos das personagens estão  guardadas nos seguintes dicionários:**\n",
    "\n",
    "* cavaleiro = { 'vida':2, 'ataque':2, 'defesa': 2, 'alcance':2 }\n",
    "* guerreiro = { 'vida':2, 'ataque':2, 'defesa': 2, 'alcance':2 }\n",
    "* arqueiro = { 'vida':2, 'ataque':2, 'defesa': 2, 'alcance':2 }\n",
    "\n",
    "Ao passar para o segundo nível do jogo, temos de automaticamente alterar os seus valores:\n",
    "\n",
    "* O cavaleiro terá o dobro de vida e de defesa que um guerreiro.\n",
    "* O guerreiro terá o dobro do ataque e do alcance que um cavaleiro.\n",
    "* O arqueiro terá a mesma vida e ataque que um guerreiro, mas a metade da sua defesa e o dobro do seu alcance.\n",
    "\n",
    "Imprimir como fica os atributos das três personagens.\n"
   ]
  },
  {
   "cell_type": "code",
   "execution_count": 8,
   "metadata": {},
   "outputs": [],
   "source": [
    "# Dicionários iniciais dos atributos das personagens\n",
    "cavaleiro = { 'vida': 2, 'ataque': 2, 'defesa': 2, 'alcance': 2 }\n",
    "guerreiro = { 'vida': 2, 'ataque': 2, 'defesa': 2, 'alcance': 2 }\n",
    "arqueiro = { 'vida': 2, 'ataque': 2, 'defesa': 2, 'alcance': 2 }\n",
    "\n",
    "# Atualizar atributos no segundo nível\n",
    "cavaleiro['vida'] = guerreiro['vida'] * 2\n",
    "cavaleiro['defesa'] = guerreiro['defesa'] * 2\n",
    "\n",
    "guerreiro['ataque'] = cavaleiro['ataque'] * 2\n",
    "guerreiro['alcance'] = cavaleiro['alcance'] * 2\n",
    "\n",
    "arqueiro['vida'] = guerreiro['vida']\n",
    "arqueiro['ataque'] = guerreiro['ataque']\n",
    "arqueiro['defesa'] = guerreiro['defesa'] / 2\n",
    "arqueiro['alcance'] = guerreiro['alcance'] * 2\n",
    "\n",
    "# Imprimir os atributos atualizados\n",
    "print(\"Atributos atualizados no segundo nível:\")\n",
    "print(\"Cavaleiro:\", cavaleiro)\n",
    "print(\"Guerreiro:\", guerreiro)\n",
    "print(\"Arqueiro:\", arqueiro)"
   ]
  }
 ],
 "metadata": {
  "anaconda-cloud": {},
  "kernelspec": {
   "display_name": "Python 3 (ipykernel)",
   "language": "python",
   "name": "python3"
  },
  "language_info": {
   "codemirror_mode": {
    "name": "ipython",
    "version": 3
   },
   "file_extension": ".py",
   "mimetype": "text/x-python",
   "name": "python",
   "nbconvert_exporter": "python",
   "pygments_lexer": "ipython3",
   "version": "3.11.5"
  }
 },
 "nbformat": 4,
 "nbformat_minor": 1
}
